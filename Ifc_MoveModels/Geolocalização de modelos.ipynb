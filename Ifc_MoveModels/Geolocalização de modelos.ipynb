{
 "cells": [
  {
   "cell_type": "markdown",
   "metadata": {},
   "source": [
    "##  <u>Movendo modelo através do IfcOpenShell (baseado em objeto de referência)</u>"
   ]
  },
  {
   "cell_type": "code",
   "execution_count": 32,
   "metadata": {},
   "outputs": [],
   "source": [
    "import ifcopenshell\n",
    "from ifcopenshell.util.selector import Selector\n",
    "\n",
    "# Lendo os arquivos de origem (que será movido) e o arquivo destino (com a coordenada destino para o deslocamento)\n",
    "ifcOrigin = ifcopenshell.open('ifc/lajes.ifc')\n",
    "ifcTarget = ifcopenshell.open('ifc/pilares.ifc')\n",
    "\n",
    "# Obtendo o objeto IfcSite de cada arquivo\n",
    "siteOrigin = ifcOrigin.by_type('IfcSite')[0]\n",
    "siteTarget = ifcTarget.by_type('IfcSite')[0]\n"
   ]
  },
  {
   "cell_type": "markdown",
   "metadata": {},
   "source": [
    "### 1. Obtendo o marco"
   ]
  },
  {
   "cell_type": "code",
   "execution_count": 37,
   "metadata": {},
   "outputs": [],
   "source": [
    "# Obtendo o objeto de referência de cada arquivo\n",
    "\n",
    "selector = Selector()\n",
    "marcoOrigin = selector.parse(ifcOrigin, '.IfcBuildingElementProxy[Name *= \"marco\"]')[0]\n",
    "marcoTarget = selector.parse(ifcTarget, '.IfcBuildingElementProxy[Name *= \"marco\"]')[0]"
   ]
  },
  {
   "cell_type": "code",
   "execution_count": 38,
   "metadata": {},
   "outputs": [
    {
     "data": {
      "text/plain": [
       "#317=IfcBuildingElementProxy('2oqvjbeo17q91TiybToJGP',#42,'marco:marco:288474',$,'marco:marco',#316,#312,'288474',$)"
      ]
     },
     "execution_count": 38,
     "metadata": {},
     "output_type": "execute_result"
    }
   ],
   "source": [
    "marcoOrigin"
   ]
  },
  {
   "cell_type": "markdown",
   "metadata": {},
   "source": [
    "### 2. Calcular a diferença entre os arquivos"
   ]
  },
  {
   "cell_type": "markdown",
   "metadata": {},
   "source": [
    "<img src=\"img/ifclocalplacement.png\" style=\"width:600px; height:400px\"/>"
   ]
  },
  {
   "cell_type": "code",
   "execution_count": 40,
   "metadata": {},
   "outputs": [],
   "source": [
    "# Obtendo as coordenadas de origem dos marcos de cada arquivo\n",
    "\n",
    "xyzTarget = marcoTarget.ObjectPlacement.RelativePlacement.Location.Coordinates\n",
    "xyzOrigin = marcoOrigin.ObjectPlacement.RelativePlacement.Location.Coordinates\n",
    "\n",
    "# Obtendo a origem do arquivo a ser movido\n",
    "\n",
    "localPlacement = siteOrigin.ObjectPlacement\n",
    "xyzSite = localPlacement.RelativePlacement.Location.Coordinates\n",
    "axisSite = localPlacement.RelativePlacement.Axis\n",
    "refDir =  localPlacement.RelativePlacement.RefDirection\n",
    "\n",
    "# Obtendo as diferenças\n",
    "\n",
    "deltaX = xyzTarget[0] - xyzOrigin[0]\n",
    "deltaY = xyzTarget[1] - xyzOrigin[1]\n",
    "deltaZ = xyzTarget[2] - xyzOrigin[2]\n",
    "\n",
    "# Calculando a nova origem\n",
    "\n",
    "newXyz = (xyzOrigin[0] + deltaX, xyzOrigin[1] + deltaY, xyzOrigin[2] + deltaZ)"
   ]
  },
  {
   "cell_type": "markdown",
   "metadata": {},
   "source": [
    "## 3. Criando um novo objeto de localização"
   ]
  },
  {
   "cell_type": "markdown",
   "metadata": {},
   "source": [
    "<img src=\"img/newifclocalplacement.png\" style=\"width:650px; height:450px\"/>"
   ]
  },
  {
   "cell_type": "code",
   "execution_count": null,
   "metadata": {},
   "outputs": [],
   "source": [
    "\n",
    "# Criando um novo IfcCartesianPoint e IfcAxis2Placement3D\n",
    "\n",
    "newCartesianPoint = ifcOrigin.create_entity('IfcCartesianPoint', Coordinates = newXyz )\n",
    "newAxis2Placement = ifcOrigin.create_entity('IfcAxis2Placement3D',\n",
    "                                            Location=newCartesianPoint,\n",
    "                                            Axis=axisSite,\n",
    "                                            RefDirection=refDir)\n",
    "\n"
   ]
  },
  {
   "cell_type": "markdown",
   "metadata": {},
   "source": [
    "### 3. Deslocando a origem do site e gravando um novo arquivo"
   ]
  },
  {
   "cell_type": "code",
   "execution_count": 41,
   "metadata": {},
   "outputs": [],
   "source": [
    "# Movendo o arquivo origem\n",
    "localPlacement.RelativePlacement = newAxis2Placement\n",
    "\n",
    "# Gravando um novo arquivo\n",
    "ifcOrigin.write('ifc/newLajes.ifc')"
   ]
  }
 ],
 "metadata": {
  "kernelspec": {
   "display_name": "Python 3",
   "language": "python",
   "name": "python3"
  },
  "language_info": {
   "codemirror_mode": {
    "name": "ipython",
    "version": 3
   },
   "file_extension": ".py",
   "mimetype": "text/x-python",
   "name": "python",
   "nbconvert_exporter": "python",
   "pygments_lexer": "ipython3",
   "version": "3.8.5"
  }
 },
 "nbformat": 4,
 "nbformat_minor": 4
}
