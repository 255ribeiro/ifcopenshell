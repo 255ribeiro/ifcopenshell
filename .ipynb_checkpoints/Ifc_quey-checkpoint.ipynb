{
 "cells": [
  {
   "cell_type": "code",
   "execution_count": 1,
   "metadata": {
    "scrolled": false
   },
   "outputs": [
    {
     "data": {
      "application/vnd.jupyter.widget-view+json": {
       "model_id": "888f345de67e4e0f8125119d942d540f",
       "version_major": 2,
       "version_minor": 0
      },
      "text/plain": [
       "HBox(children=(Text(value='', description='IFC File :'), Text(value='', description='Query :'), Button(descrip…"
      ]
     },
     "metadata": {},
     "output_type": "display_data"
    }
   ],
   "source": [
    "''' IFC Query\n",
    "    Run queries in ifc files and visualize the results'''\n",
    "\n",
    "from ifc_utils.viewer import Viewer\n",
    "import ifcopenshell\n",
    "from ifcopenshell.util.selector import Selector\n",
    "import ipywidgets as widgets\n",
    "\n",
    "   \n",
    "def run(event):\n",
    "    \n",
    "    try:\n",
    "        #File sample : ./modelos_ifc/SampleHouse.ifc\n",
    "        ifc= ifcopenshell.open(file.value)\n",
    "        \n",
    "        selector = Selector()\n",
    "        elements = selector.parse(ifc, query.value)\n",
    "\n",
    "        if elements:\n",
    " \n",
    "            v = Viewer(ifc, elements)\n",
    "            print('Query :', query.value)\n",
    "            v.display()\n",
    "\n",
    "        else:\n",
    "            print(\"Nenhum elemento encontrado!\")\n",
    "    except:\n",
    "        print(\"Não foi possível executar a pesquisa!\")\n",
    "\n",
    "        \n",
    "# Montagem dos elementos interativos\n",
    "\n",
    "file=widgets.Text(description='IFC File :')\n",
    "query=widgets.Text(description='Query :')\n",
    "button = widgets.Button(\n",
    "    description='Display',\n",
    "    tooltip='Click to View',\n",
    "    button_style='',\n",
    ")\n",
    "button.on_click(run)\n",
    "\n",
    "\n",
    "widgets.HBox([file,query, button])\n",
    "\n"
   ]
  },
  {
   "cell_type": "code",
   "execution_count": null,
   "metadata": {},
   "outputs": [],
   "source": []
  }
 ],
 "metadata": {
  "interpreter": {
   "hash": "63893b84e349a40d341cb966eabb30bb2b470c903d1ff72b9f1ff16508967192"
  },
  "kernelspec": {
   "display_name": "pyifc",
   "language": "python",
   "name": "pyifc"
  },
  "language_info": {
   "codemirror_mode": {
    "name": "ipython",
    "version": 3
   },
   "file_extension": ".py",
   "mimetype": "text/x-python",
   "name": "python",
   "nbconvert_exporter": "python",
   "pygments_lexer": "ipython3",
   "version": "3.9.6"
  }
 },
 "nbformat": 4,
 "nbformat_minor": 4
}
