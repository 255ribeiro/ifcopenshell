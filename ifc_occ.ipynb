{
 "cells": [
  {
   "cell_type": "code",
   "execution_count": 2,
   "source": [
    "import os\r\n",
    "import ifcopenshell\r\n",
    "import ifcopenshell.geom\r\n",
    "from OCC.Display.WebGl.jupyter_renderer import JupyterRenderer, format_color\r\n"
   ],
   "outputs": [],
   "metadata": {}
  },
  {
   "cell_type": "code",
   "execution_count": 3,
   "source": [
    "ifc_filename = os.path.join('.', 'assets', 'ifc_models', 'AC-11-Smiley-West-04-07-2007.ifc')\r\n",
    "assert os.path.isfile(ifc_filename)"
   ],
   "outputs": [],
   "metadata": {}
  },
  {
   "cell_type": "code",
   "execution_count": 4,
   "source": [
    "my_renderer = JupyterRenderer(size=(700, 700))"
   ],
   "outputs": [],
   "metadata": {}
  },
  {
   "cell_type": "code",
   "execution_count": 5,
   "source": [
    "settings = ifcopenshell.geom.settings()\r\n",
    "settings.set(settings.USE_PYTHON_OPENCASCADE, True)  # tells ifcopenshell to use pythonocc"
   ],
   "outputs": [],
   "metadata": {}
  },
  {
   "cell_type": "code",
   "execution_count": 6,
   "source": [
    "ifc_file = ifcopenshell.open(ifc_filename)"
   ],
   "outputs": [],
   "metadata": {}
  },
  {
   "cell_type": "code",
   "execution_count": 7,
   "source": [
    "products = ifc_file.by_type(\"IfcProduct\") # traverse all IfcProducts"
   ],
   "outputs": [],
   "metadata": {}
  },
  {
   "cell_type": "code",
   "execution_count": 8,
   "source": [
    "for product in products:\r\n",
    "    if product.Representation is not None:  # some IfcProducts don't have any 3d representation\r\n",
    "        pdct_shape = ifcopenshell.geom.create_shape(settings, inst=product)\r\n",
    "        r,g,b,alpha = pdct_shape.styles[0] # the shape color\r\n",
    "        color = format_color(int(abs(r)*255), int(abs(g)*255), int(abs(b)*255))\r\n",
    "        # below, the pdct_shape.geometry is a TopoDS_Shape, i.e. can be rendered using\r\n",
    "        # any renderer (threejs, x3dom, jupyter, qt5 based etc.)\r\n",
    "        my_renderer.DisplayShape(pdct_shape.geometry, shape_color = color, transparency=True, opacity=alpha)"
   ],
   "outputs": [],
   "metadata": {}
  },
  {
   "cell_type": "code",
   "execution_count": null,
   "source": [
    "my_renderer\r\n"
   ],
   "outputs": [
    {
     "output_type": "error",
     "ename": "Error",
     "evalue": "Session cannot generate requests",
     "traceback": [
      "Error: Session cannot generate requests",
      "at w.executeCodeCell (c:\\Users\\ferra\\.vscode\\extensions\\ms-toolsai.jupyter-2021.8.1054968649\\out\\client\\extension.js:90:320068)",
      "at w.execute (c:\\Users\\ferra\\.vscode\\extensions\\ms-toolsai.jupyter-2021.8.1054968649\\out\\client\\extension.js:90:319389)",
      "at w.start (c:\\Users\\ferra\\.vscode\\extensions\\ms-toolsai.jupyter-2021.8.1054968649\\out\\client\\extension.js:90:315205)",
      "at runMicrotasks (<anonymous>)",
      "at processTicksAndRejections (internal/process/task_queues.js:93:5)",
      "at async t.CellExecutionQueue.executeQueuedCells (c:\\Users\\ferra\\.vscode\\extensions\\ms-toolsai.jupyter-2021.8.1054968649\\out\\client\\extension.js:90:329732)",
      "at async t.CellExecutionQueue.start (c:\\Users\\ferra\\.vscode\\extensions\\ms-toolsai.jupyter-2021.8.1054968649\\out\\client\\extension.js:90:329272)"
     ]
    }
   ],
   "metadata": {}
  }
 ],
 "metadata": {
  "kernelspec": {
   "name": "python3",
   "display_name": "Python 3.9.5 64-bit ('pyifc': conda)"
  },
  "language_info": {
   "name": "python",
   "version": "3.9.5",
   "mimetype": "text/x-python",
   "codemirror_mode": {
    "name": "ipython",
    "version": 3
   },
   "pygments_lexer": "ipython3",
   "nbconvert_exporter": "python",
   "file_extension": ".py"
  },
  "interpreter": {
   "hash": "6582ce03576f6c6c765d20f58794b37d4b3533c798dad966fab874d76e62593c"
  }
 },
 "nbformat": 4,
 "nbformat_minor": 2
}