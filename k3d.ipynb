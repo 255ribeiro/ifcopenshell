{
 "cells": [
  {
   "cell_type": "code",
   "execution_count": null,
   "metadata": {},
   "outputs": [],
   "source": [
    "import ifcopenshell\n",
    "from ifc_utils.viewer import Viewer\n",
    "from ifcopenshell.util.selector import Selector\n",
    "\n",
    "ifc_file = ifcopenshell.open(\"./modelos_ifc/SampleHouse.ifc\")\n",
    "\n",
    "\n",
    "\n",
    "selector = Selector()\n",
    "\n",
    "elements = selector.parse(ifc_file, \".IfcWall\")\n",
    "\n",
    "\n",
    "\n",
    "tela = Viewer(ifc_file, elements)\n",
    "\n",
    "\n",
    "\n",
    "tela.display()\n"
   ]
  },
  {
   "cell_type": "code",
   "execution_count": null,
   "metadata": {},
   "outputs": [],
   "source": []
  },
  {
   "cell_type": "code",
   "execution_count": null,
   "metadata": {},
   "outputs": [],
   "source": [
    "import k3d\n",
    "import numpy as np\n",
    "\n",
    "Nx, Ny  = 34, 33\n",
    "xmin, xmax = -3, 4\n",
    "ymin, ymax = -0, 3\n",
    "\n",
    "x = np.linspace(xmin, xmax, Nx)\n",
    "y = np.linspace(ymin, ymax, Ny)\n",
    "x, y = np.meshgrid(x, y)\n",
    "f = np.sin(x**2 + y**2)\n",
    "\n",
    "plota = k3d.plot()\n",
    "plt_surface = k3d.surface(f.astype(np.float32), bounds=[xmin,xmax,ymin,ymax])\n",
    "plota += plt_surface\n",
    "plota.display()\n"
   ]
  }
 ],
 "metadata": {
  "interpreter": {
   "hash": "6582ce03576f6c6c765d20f58794b37d4b3533c798dad966fab874d76e62593c"
  },
  "kernelspec": {
   "display_name": "Python 3",
   "language": "python",
   "name": "python3"
  },
  "language_info": {
   "codemirror_mode": {
    "name": "ipython",
    "version": 3
   },
   "file_extension": ".py",
   "mimetype": "text/x-python",
   "name": "python",
   "nbconvert_exporter": "python",
   "pygments_lexer": "ipython3",
   "version": "3.9.5"
  }
 },
 "nbformat": 4,
 "nbformat_minor": 2
}
