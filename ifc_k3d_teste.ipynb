{
 "cells": [
  {
   "cell_type": "code",
   "execution_count": null,
   "metadata": {},
   "outputs": [],
   "source": [
    "import ifcopenshell\n",
    "from ifc_utils.viewer import Viewer\n",
    "from ifcopenshell.util.selector import Selector\n",
    "\n",
    "ifc_file = ifcopenshell.open(\"./modelos_ifc/SampleHouse.ifc\")\n",
    "\n",
    "\n",
    "\n",
    "selector = Selector()\n",
    "\n",
    "elements = selector.parse(ifc_file, \".IfcWall\")\n",
    "\n",
    "\n",
    "\n",
    "tela = Viewer(ifc_file, elements)\n",
    "\n",
    "\n",
    "\n",
    "tela.display()"
   ]
  },
  {
   "cell_type": "code",
   "execution_count": null,
   "metadata": {},
   "outputs": [],
   "source": []
  }
 ],
 "metadata": {
  "interpreter": {
   "hash": "6582ce03576f6c6c765d20f58794b37d4b3533c798dad966fab874d76e62593c"
  },
  "kernelspec": {
   "display_name": "Python 3",
   "language": "python",
   "name": "python3"
  },
  "language_info": {
   "codemirror_mode": {
    "name": "ipython",
    "version": 3
   },
   "file_extension": ".py",
   "mimetype": "text/x-python",
   "name": "python",
   "nbconvert_exporter": "python",
   "pygments_lexer": "ipython3",
   "version": "3.9.5"
  }
 },
 "nbformat": 4,
 "nbformat_minor": 2
}
