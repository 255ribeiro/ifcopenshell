{
 "cells": [
  {
   "cell_type": "code",
   "execution_count": 1,
   "source": [
    "import ifcopenshell\r\n",
    "from ifc_utils.viewer import Viewer\r\n",
    "from ifcopenshell.util.selector import Selector\r\n",
    "\r\n",
    "ifc_file = ifcopenshell.open(\"./modelos_ifc/SampleHouse.ifc\")\r\n",
    "\r\n",
    "\r\n",
    "\r\n",
    "selector = Selector()\r\n",
    "\r\n",
    "elements = selector.parse(ifc_file, \".IfcWall\")\r\n",
    "\r\n",
    "\r\n",
    "\r\n",
    "tela = Viewer(ifc_file, elements)\r\n",
    "\r\n",
    "\r\n",
    "\r\n",
    "tela.display()"
   ],
   "outputs": [],
   "metadata": {}
  }
 ],
 "metadata": {
  "orig_nbformat": 4,
  "language_info": {
   "name": "python",
   "version": "3.9.5",
   "mimetype": "text/x-python",
   "codemirror_mode": {
    "name": "ipython",
    "version": 3
   },
   "pygments_lexer": "ipython3",
   "nbconvert_exporter": "python",
   "file_extension": ".py"
  },
  "kernelspec": {
   "name": "python3",
   "display_name": "Python 3.9.5 64-bit ('pyifc': conda)"
  },
  "interpreter": {
   "hash": "6582ce03576f6c6c765d20f58794b37d4b3533c798dad966fab874d76e62593c"
  }
 },
 "nbformat": 4,
 "nbformat_minor": 2
}