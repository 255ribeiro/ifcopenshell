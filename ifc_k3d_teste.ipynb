{
 "cells": [
  {
   "cell_type": "code",
   "execution_count": null,
   "source": [
    "import ifcopenshell\r\n",
    "from ifc_utils.viewer import Viewer\r\n",
    "from ifcopenshell.util.selector import Selector\r\n",
    "\r\n",
    "ifc_file = ifcopenshell.open(\"./modelos_ifc/SampleHouse.ifc\")\r\n",
    "\r\n",
    "\r\n",
    "\r\n",
    "selector = Selector()\r\n",
    "\r\n",
    "elements = selector.parse(ifc_file, \".IfcWall\")\r\n",
    "\r\n",
    "\r\n",
    "\r\n",
    "tela = Viewer(ifc_file, elements)\r\n",
    "\r\n",
    "\r\n",
    "\r\n",
    "tela.display()"
   ],
   "outputs": [
    {
     "output_type": "error",
     "ename": "Error",
     "evalue": "Session cannot generate requests",
     "traceback": [
      "Error: Session cannot generate requests",
      "at w.executeCodeCell (c:\\Users\\ferra\\.vscode\\extensions\\ms-toolsai.jupyter-2021.8.1054968649\\out\\client\\extension.js:90:320068)",
      "at w.execute (c:\\Users\\ferra\\.vscode\\extensions\\ms-toolsai.jupyter-2021.8.1054968649\\out\\client\\extension.js:90:319389)",
      "at w.start (c:\\Users\\ferra\\.vscode\\extensions\\ms-toolsai.jupyter-2021.8.1054968649\\out\\client\\extension.js:90:315205)",
      "at runMicrotasks (<anonymous>)",
      "at processTicksAndRejections (internal/process/task_queues.js:93:5)",
      "at async t.CellExecutionQueue.executeQueuedCells (c:\\Users\\ferra\\.vscode\\extensions\\ms-toolsai.jupyter-2021.8.1054968649\\out\\client\\extension.js:90:329732)",
      "at async t.CellExecutionQueue.start (c:\\Users\\ferra\\.vscode\\extensions\\ms-toolsai.jupyter-2021.8.1054968649\\out\\client\\extension.js:90:329272)"
     ]
    }
   ],
   "metadata": {}
  },
  {
   "cell_type": "code",
   "execution_count": null,
   "source": [
    "import ifcopenshell\r\n",
    "import ifcopenshell.geom"
   ],
   "outputs": [],
   "metadata": {}
  }
 ],
 "metadata": {
  "orig_nbformat": 4,
  "language_info": {
   "name": "python",
   "version": "3.9.5",
   "mimetype": "text/x-python",
   "codemirror_mode": {
    "name": "ipython",
    "version": 3
   },
   "pygments_lexer": "ipython3",
   "nbconvert_exporter": "python",
   "file_extension": ".py"
  },
  "kernelspec": {
   "name": "python3",
   "display_name": "Python 3.9.5 64-bit ('pyifc': conda)"
  },
  "interpreter": {
   "hash": "6582ce03576f6c6c765d20f58794b37d4b3533c798dad966fab874d76e62593c"
  }
 },
 "nbformat": 4,
 "nbformat_minor": 2
}