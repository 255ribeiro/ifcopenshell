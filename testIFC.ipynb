{
 "metadata": {
  "language_info": {
   "codemirror_mode": {
    "name": "ipython",
    "version": 3
   },
   "file_extension": ".py",
   "mimetype": "text/x-python",
   "name": "python",
   "nbconvert_exporter": "python",
   "pygments_lexer": "ipython3",
   "version": "3.9.6"
  },
  "orig_nbformat": 2,
  "kernelspec": {
   "name": "python3",
   "display_name": "Python 3.9.6 64-bit ('pyifc': conda)"
  },
  "interpreter": {
   "hash": "63893b84e349a40d341cb966eabb30bb2b470c903d1ff72b9f1ff16508967192"
  }
 },
 "nbformat": 4,
 "nbformat_minor": 2,
 "cells": [
  {
   "cell_type": "code",
   "execution_count": 2,
   "source": [
    "import ifcopenshell as ifc\r\n",
    "import pandas as pd"
   ],
   "outputs": [],
   "metadata": {}
  },
  {
   "cell_type": "code",
   "execution_count": 3,
   "source": [
    "f = ifc.open('202103162102_cira.ifc')"
   ],
   "outputs": [],
   "metadata": {}
  },
  {
   "cell_type": "code",
   "execution_count": 4,
   "source": [
    "f"
   ],
   "outputs": [
    {
     "output_type": "execute_result",
     "data": {
      "text/plain": [
       "<ifcopenshell.file.file at 0x18ba4b326d0>"
      ]
     },
     "metadata": {},
     "execution_count": 4
    }
   ],
   "metadata": {}
  },
  {
   "cell_type": "code",
   "execution_count": 5,
   "source": [
    "f.by_type('ifcwall')"
   ],
   "outputs": [
    {
     "output_type": "execute_result",
     "data": {
      "text/plain": [
       "[#255=IfcWall('2srqvt49xiH9w0TC7qm7ba',#31,'MUR_EXT-009',$,$,#167,#243,'B6D74E77-109E-EC44-9E80-74C1F4C07964',.ELEMENTEDWALL.),\n",
       " #412=IfcWall('0bcE$puOuHI8o89yWBzPGr',#31,'MUR_EXT-010',$,$,#344,#402,'2598EFF3-E18E-1148-8C88-27C80BF59435',.ELEMENTEDWALL.),\n",
       " #503=IfcWall('0SXEHXM4QAIQH4zPwjR73r',#31,'MUR_EXT-011',$,$,#445,#493,'1C84E461-5846-8A49-A444-F59EAD6C70F5',.ELEMENTEDWALL.),\n",
       " #10435=IfcWall('34SH2lgdnYIg2dUqc_89gJ',#31,'MUR_EXT-002',$,$,#10378,#10425,'C47110AF-AA7C-624A-A0A7-7B49BE209A93',.ELEMENTEDWALL.),\n",
       " #10539=IfcWall('3aanuPAQ2FHujNoq4c18SR',#31,'MUR_EXT-003',$,$,#10472,#10529,'E4931E19-29A0-8F47-8B57-CB412604871B',.ELEMENTEDWALL.),\n",
       " #10657=IfcWall('01TmlkcbfEIOGRwnmpQcdq',#31,'MUR_EXT-008',$,$,#10572,#10647,'01770BEE-9A5A-4E49-841B-EB1C336A69F4',.ELEMENTEDWALL.),\n",
       " #10914=IfcWall('2vf3IQWcEKJAndyNJEU8gj',#31,'MUR_EXT-007',$,$,#10690,#10904,'B9A4349A-8263-944C-AC67-F174CE788AAD',.ELEMENTEDWALL.),\n",
       " #11004=IfcWall('0cHh0kpiiSIOtX92O5yQT5',#31,'MUR_EXT-002',$,$,#10947,#10994,'2646B02E-CECB-1C49-8DE1-242605F1A745',.ELEMENTEDWALL.),\n",
       " #11104=IfcWall('3V9iPAYM0cIh4$fAo5HI7o',#31,'MUR_EXT-003',$,$,#11037,#11094,'DF26C64A-8960-264A-B13F-A4AC854521F2',.ELEMENTEDWALL.),\n",
       " #11209=IfcWall('0KVakWD_PWHOuZEkgaElf3',#31,'MUR_EXT-004',$,$,#11137,#11199,'147E4BA0-37E6-6045-8E23-3AEAA43AFA43',.ELEMENTEDWALL.),\n",
       " #11581=IfcWall('0w5x2Dqve1GfYb09KcuVAB',#31,'MUR_EXT-005',$,$,#11242,#11571,'3A17B08D-D39A-0142-98A5-009526E1F28B',.ELEMENTEDWALL.),\n",
       " #11828=IfcWall('2bmyG_CNQSHh6mZmhCxxDA',#31,'MUR_EXT-006',$,$,#11614,#11818,'A5C3C43E-3176-9C46-B1B0-8F0ACCEFB34A',.ELEMENTEDWALL.),\n",
       " #12123=IfcWall('1vLnEC2IrvHxxRAtuTGR55',#31,'MUR_EXT-009',$,$,#11980,#12113,'7957138C-092D-7947-BEDB-2B7E1D41B145',.ELEMENTEDWALL.),\n",
       " #13490=IfcWall('2Hewh1beyVHAmp6M32jukc',#31,'MUR_EXT-010',$,$,#13389,#13480,'91A3AAC1-968F-1F44-AC33-1960C2B78BA6',.ELEMENTEDWALL.),\n",
       " #14640=IfcWall('1sDZwseqqYGQsEUjEmAjJq',#31,'MUR_EXT-011',$,$,#14583,#14630,'76363EB6-A34D-2241-AD8E-7AD3B02AD4F4',.ELEMENTEDWALL.),\n",
       " #14774=IfcWall('30ezNnddEeHBu38$YfRof7',#31,'MUR_EXT-012',$,$,#14673,#14764,'C0A3D5F1-9E73-A844-BE03-23F8A96F2A47',.ELEMENTEDWALL.),\n",
       " #15045=IfcWall('2y1YxcWLiDIeeXs5ill$JI',#31,'MUR_EXT-013',$,$,#14952,#15035,'BC062EE6-815B-0D4A-8A21-D85B2FBFF4D2',.STANDARD.),\n",
       " #15936=IfcWall('1$QwHIPNscIgy$4KphtsAt',#31,'MUR_EXT-014',$,$,#15682,#15926,'7F6BA452-657D-A64A-AF3F-114CEBDF62B7',.PARTITIONING.),\n",
       " #17389=IfcWall('1n32uVSSiUGfDT6LuhKynH',#31,'MUR_EXT-015',$,$,#17309,#17379,'710C2E1F-71CB-1E42-935D-195E2B53CC51',.PARTITIONING.),\n",
       " #17559=IfcWall('1BlAB5geLSHBYZKRI9gyWD',#31,'MUR_EXT-015',$,$,#17502,#17549,'4BBCA2C5-AA85-5C44-B8A3-51B489ABC80D',.PARTITIONING.),\n",
       " #30183=IfcWall('1FUQOG2EY5HBhDkpwX4g41',#31,'MUR_EXT-015',$,$,#30041,#30173,'4F79A610-08E8-8544-BACD-BB3EA112A101',.PARTITIONING.),\n",
       " #32484=IfcWall('1IiKvEKglTGOQPfHhNHo70',#31,'MUR_EXT-011',$,$,#32403,#32474,'52B14E4E-52AB-DD41-8699-A51AD74721C0',.ELEMENTEDWALL.),\n",
       " #33154=IfcWall('2KhbyMVoNoJA2ZFUfj1WKC',#31,'MUR_EXT-012',$,$,#33077,#33144,'94AE5F16-7F25-F24C-A0A3-3DEA6D06050C',.ELEMENTEDWALL.),\n",
       " #41118=IfcWall('0n9P$z52_kIwJqLhuX8Uxh',#31,'MUR_EXT-010',$,$,#41019,#41108,'31259FFD-142F-AE4B-A4F4-56BE2121EEEB',.ELEMENTEDWALL.),\n",
       " #41485=IfcWall('2H_jCvzgYxH8M21FgBnn9c',#31,'MUR_EXT-009',$,$,#41151,#41475,'91FAD339-F6A8-BB44-8582-04FA8BC71266',.ELEMENTEDWALL.),\n",
       " #41600=IfcWall('0znG3fyxL4Hu_BTh4XiFOo',#31,'MUR_EXT-008',$,$,#41518,#41590,'3DC500E9-F3B5-4447-8F8B-76B121B0F632',.ELEMENTEDWALL.),\n",
       " #41746=IfcWall('2XkU4y7JvYGvfpUakMSxSI',#31,'MUR_EXT-009',$,$,#41633,#41736,'A1B9E13C-1D3E-6243-9A73-7A4B9673B712',.ELEMENTEDWALL.),\n",
       " #41846=IfcWall('1zt652Ot8UIvX4FvwE8n$b',#31,'MUR_EXT-008',$,$,#41779,#41836,'7DDC6142-6372-1E4B-9844-3F9E8E231FE5',.ELEMENTEDWALL.),\n",
       " #43614=IfcWall('0qazDIRa11JerYx8KGVqS4',#31,'MUR_EXT-008',$,$,#43547,#43604,'3493D352-6E40-414E-8D62-EC85107F4704',.ELEMENTEDWALL.),\n",
       " #48992=IfcWall('1XV0OCxE0sWQryv3gjUG6_',#31,'MUR_EXT-017',$,$,#48077,#48942,'617C060C-ECE0-3681-AD7C-E43AAD7901BE',.ELEMENTEDWALL.),\n",
       " #53408=IfcWall('0FKqltheS3Yjo5QO1qcize',#31,'MUR_EXT-020',$,$,#53275,#53388,'0F534BF7-AE87-038A-DC85-6980749ACF68',.ELEMENTEDWALL.),\n",
       " #53726=IfcWall('3j4Uwe4LI_CUT7SStxyh$h',#31,'MUR_EXT-020',$,$,#53457,#53706,'ED11EEA8-1154-BE31-E747-71CDFBF2BFEB',.ELEMENTEDWALL.),\n",
       " #55326=IfcWall('0MYr42ox_r3qsYGlA2j9X1',#31,'MUR_EXT-015',$,$,#54655,#55276,'168B5102-CBBF-B50F-4DA2-42F282B49841',.ELEMENTEDWALL.),\n",
       " #56015=IfcWall('1L_IQDn$Vu26_MLF9ggG2v',#31,'MUR_EXT-014',$,$,#55382,#55965,'55F9268D-C7F7-F808-6F96-54F26AA900B9',.ELEMENTEDWALL.),\n",
       " #56588=IfcWall('2zDVOKo_rtvC7FA8j9ULMT',#31,'MUR_EXT-013',$,$,#56071,#56538,'BD35F614-CBED-77E4-C1CF-288B4979559D',.ELEMENTEDWALL.),\n",
       " #57449=IfcWall('0I_0RaqSSUX2spUYIwdvFg',#31,'MUR_EXT-012',$,$,#56644,#57399,'12F806E4-D1C7-1E84-2DB3-7A24BA9F93EA',.ELEMENTEDWALL.),\n",
       " #59509=IfcWall('0rBTuFQw5YmeT2$2sFtZRv',#31,'MUR_EXT-011',$,$,#57505,#59459,'352DDE0F-6BA1-62C2-8742-FC2D8FDE36F9',.ELEMENTEDWALL.),\n",
       " #61334=IfcWall('220Ksmd5uBqzvnfjcw6Qo8',#31,'MUR_EXT-019',$,$,#60046,#61284,'82014DB0-9C5E-0BD3-DE71-A6D9BA19AC88',.ELEMENTEDWALL.),\n",
       " #63698=IfcWall('1N0JsHA3F$fHkhoeWAjayo',#31,'MUR_EXT-020',$,$,#63525,#63678,'57013D91-2833-FFA5-1BAB-CA880AB64F32',.ELEMENTEDWALL.),\n",
       " #64971=IfcWall('0fasjd3ZFdG3$$EchUvk8l',#31,'MUR_EXT-018',$,$,#63987,#64921,'29936B67-0E33-E740-3FFF-3A6ADEE6E22F',.ELEMENTEDWALL.),\n",
       " #67558=IfcWall('3BAIgfhBJVWJlC8OfQeiwI',#31,'MUR_EXT-016',$,$,#66088,#67508,'CB292AA9-ACB4-DF81-3BCC-218A5AA2CE92',.ELEMENTEDWALL.),\n",
       " #74186=IfcWall('2BnzmyETnkJqMOp$RBqo4x',#31,'MUR_EXT-020',$,$,#73977,#74166,'8BC7DC3C-39DC-6E4F-4598-CFF6CBD3213B',.ELEMENTEDWALL.),\n",
       " #82221=IfcWall('3FTb0XG4aSD5a4rtGpLkJD',#31,'MUR_EXT-020',$,$,#82074,#82201,'CF765021-4049-1C34-5904-D7743356E4CD',.ELEMENTEDWALL.),\n",
       " #105601=IfcWall('2yhJNg$p5_KcIORVW55OvV',#31,'MUR_EXT-017',$,$,#104563,#105551,'BCAD35EA-FF31-7E52-6498-6DF805158E5F',.ELEMENTEDWALL.),\n",
       " #107074=IfcWall('2Yl8EbhcLNxvGUPp6gjJAT',#31,'MUR_EXT-017',$,$,#106283,#107024,'A2BC83A5-AE65-57EF-941E-6731AAB5329D',.ELEMENTEDWALL.),\n",
       " #107283=IfcWall('1JcCF511jEItfFh7pIOLMS',#31,'MUR_EXT-020',$,$,#107130,#107263,'5398C3C5-041B-4E4B-7A4F-AC7CD261559C',.ELEMENTEDWALL.),\n",
       " #107617=IfcWall('0NhPklR_014_dS4PanHiWK',#31,'MUR_EXT-020',$,$,#107368,#107597,'17AD9BAF-6FE0-0113-E9DC-11993146C814',.ELEMENTEDWALL.),\n",
       " #110932=IfcWall('0OwJywxlehFlM_S$ug9Kvv',#31,'MUR_EXT-017',$,$,#110153,#110882,'18E93F3A-EEFA-2B3E-F5BE-73FE2A254E79',.ELEMENTEDWALL.),\n",
       " #141657=IfcWall('0Ah_gYUXR_EdasXmMrVies',#31,'MUR_EXT-011',$,$,#141590,#141647,'0AAFEAA2-7A16-FE3A-7936-8705B57ECA36',.ELEMENTEDWALL.),\n",
       " #141761=IfcWall('0Pnf8G26r7MeZ5uTLvFJ7N',#31,'MUR_EXT-011',$,$,#141694,#141751,'19C69210-086D-475A-88C5-E1D5793D31D7',.ELEMENTEDWALL.),\n",
       " #141861=IfcWall('3Oc598Fv$XRcXQpL6uI_qD',#31,'MUR_EXT-011',$,$,#141794,#141851,'D8985248-3F9F-E16E-685A-CD51B84BED0D',.ELEMENTEDWALL.),\n",
       " #142030=IfcWall('0_yewXEkJHe8RYZZogHWAf',#31,'MUR_EXT-011',$,$,#141963,#142020,'3EF28EA1-3AE4-D1A0-86E2-8E3CAA4602A9',.ELEMENTEDWALL.),\n",
       " #142130=IfcWall('2PuTliyAeLSar9Fh60pnaY',#31,'MUR_EXT-011',$,$,#142063,#142120,'99E1DBEC-F0AA-1572-4D49-3EB180CF1922',.ELEMENTEDWALL.),\n",
       " #142299=IfcWall('3fVGMljLxI6_xFbyVFFjda',#31,'MUR_EXT-011',$,$,#142232,#142289,'E97D05AF-B55E-D21B-EECF-97C7CF3ED9E4',.ELEMENTEDWALL.),\n",
       " #142918=IfcWall('1x$8QfCtwyIfTHsrfywbGz',#31,'MUR_EXT-009',$,$,#142765,#142908,'7BFC86A9-337E-BC4A-9751-DB5A7CEA543D',.ELEMENTEDWALL.),\n",
       " #144303=IfcWall('2o_WSPKScUJhcSukVRUD5f',#31,'MUR_EXT-010',$,$,#144068,#144293,'B2FA0719-51C9-9E4E-B99C-E2E7DB78D169',.ELEMENTEDWALL.),\n",
       " #145273=IfcWall('2jz9atuZ3tJuSJipq8bztj',#31,'MUR_EXT-012',$,$,#145038,#145263,'ADF49937-E230-F74F-8713-B33D0897DDED',.ELEMENTEDWALL.),\n",
       " #145702=IfcWall('0ibO4VCmeBGhpScgxppoTD',#31,'MUR_EXT-014',$,$,#145594,#145692,'2C95811F-330A-0B42-BCDC-9AAEF3CF274D',.PARTITIONING.),\n",
       " #145865=IfcWall('2Wzq8gHUYtIBTMGNCwX3Mg',#31,'MUR_EXT-014',$,$,#145735,#145855,'A0F7422A-45E8-B748-B756-41733A8435AA',.PARTITIONING.),\n",
       " #147249=IfcWall('1uyvWplXG8IhPbEtuzlkey',#31,'MUR_EXT-014',$,$,#147167,#147239,'78F39833-BE14-084A-B665-3B7E3DBEEA3C',.PARTITIONING.),\n",
       " #148649=IfcWall('2ysr6IfgXYH8p1B9j4nmIJ',#31,'MUR_EXT-012',$,$,#148555,#148639,'BCDB5192-A6A8-6244-8CC1-2C9B44C70493',.ELEMENTEDWALL.),\n",
       " #149325=IfcWall('3il2omew10JeUYsjHI_c1l',#31,'MUR_EXT-012',$,$,#149225,#149315,'ECBC2CB0-A3A0-404E-87A2-DAD452FA606F',.ELEMENTEDWALL.),\n",
       " #156208=IfcWall('1z3Pz9mdneHwEZIL4D1gaf',#31,'MUR_EXT-014',$,$,#156151,#156198,'7D0D9F49-C27C-6847-A3A3-49510D06A929',.PARTITIONING.),\n",
       " #156302=IfcWall('2pk$rzz_oZIfQVhWxXcWKY',#31,'MUR_EXT-014',$,$,#156245,#156292,'B3BBFD7D-F7EC-A34A-969F-AE0EE19A0522',.PARTITIONING.),\n",
       " #156392=IfcWall('23JeSzIAUCHg4X0J2iXJFK',#31,'MUR_EXT-014',$,$,#156335,#156382,'834E873D-48A7-8C46-A121-0130AC8533D4',.PARTITIONING.),\n",
       " #156522=IfcWall('0C5PXa2txLIv_FT10r8Bt$',#31,'MUR_EXT-014',$,$,#156425,#156512,'0C159864-0B7E-D54B-9F8F-74103520BDFF',.PARTITIONING.),\n",
       " #159198=IfcWall('3JjQe7kHmdJAV4qXuzLaxR',#31,'MUR_EXT-014',$,$,#159095,#159188,'D3B5AA07-B91C-274C-A7C4-D21E3D564EDB',.PARTITIONING.),\n",
       " #159916=IfcWall('20dgME$km0HBFla0kW3cI8',#31,'MUR_EXT-014',$,$,#159806,#159906,'809EA58E-FEEC-0044-B3EF-900BA00E6488',.PARTITIONING.),\n",
       " #167268=IfcWall('2LnwFSTeZ_JBWSO$9zmFEr',#31,'MUR_EXT-014',$,$,#167160,#167258,'95C7A3DC-7688-FE4C-B81C-63F27DC0F3B5',.PARTITIONING.),\n",
       " #169379=IfcWall('3LVbre8V4RJO1Pz4_JCNb0',#31,'MUR_EXT-014',$,$,#169276,#169369,'D57E5D68-21F1-1B4D-8059-F44F93317940',.PARTITIONING.),\n",
       " #169515=IfcWall('0cls5Z474YIwMc$VmWEPRa',#31,'MUR_EXT-014',$,$,#169412,#169505,'26BF6163-1071-224B-A5A6-FDFC203996E4',.PARTITIONING.),\n",
       " #170263=IfcWall('2CRWxRsqB9GRZN$x3hxF5y',#31,'MUR_EXT-014',$,$,#170170,#170253,'8C6E0EDB-DB42-C941-B8D7-FFB0EBECF17C',.PARTITIONING.),\n",
       " #184994=IfcWall('0WefmAxdsJNq6_cvOP1IQK',#31,'MUR_EXT-020',$,$,#184688,#184974,'20A29C0A-EE7D-935F-41BE-9B9619052694',.ELEMENTEDWALL.),\n",
       " #185489=IfcWall('0GlHS1DTvW_ZY5cXaWkjGz',#31,'MUR_EXT-020',$,$,#185209,#185469,'10BD1701-35DE-60FA-3885-9A1920BAD43D',.ELEMENTEDWALL.),\n",
       " #185884=IfcWall('1oj4$HvM7UMJtyllvR$4DI',#31,'MUR_EXT-020',$,$,#185692,#185864,'72B44FD1-E561-DE59-3DFC-BEFE5BFC4352',.ELEMENTEDWALL.),\n",
       " #188343=IfcWall('2pyFJ3YQx7wI5wEeKIFf1l',#31,'MUR_EXT-015',$,$,#186090,#188293,'B3F0F4C3-89AE-C7E9-217A-3A85123E906F',.ELEMENTEDWALL.),\n",
       " #188918=IfcWall('0SSN8YI9FT5hcYpf3986Lp',#31,'MUR_EXT-016',$,$,#188399,#188868,'1C717222-4893-DD16-B9A2-CE90C9206573',.ELEMENTEDWALL.),\n",
       " #214464=IfcWall('2GOoEJiL0q03B6fA_PnxTx',#31,'MUR_EXT-012',$,$,#212291,#214414,'90632393-B150-3400-32C6-A4AF99C7B77B',.ELEMENTEDWALL.),\n",
       " #214979=IfcWall('0W4bpYeeWLiwrod5cchIj6',#31,'MUR_EXT-020',$,$,#214601,#214959,'20125CE2-A288-15B3-AD72-9C59A6AD2B46',.ELEMENTEDWALL.),\n",
       " #216050=IfcWall('2N48HKqJe3pD$S$JgqjquA',#31,'MUR_EXT-013',$,$,#215023,#216000,'97108454-D13A-03CC-DFDC-FD3AB4B74E0A',.ELEMENTEDWALL.),\n",
       " #228088=IfcWall('0fCzY6yO34CfMUMJBBE94S',#31,'MUR_EXT-018',$,$,#227437,#228038,'2933D886-F180-C432-959E-5932CB38911C',.ELEMENTEDWALL.),\n",
       " #230213=IfcWall('0gHuWDyxORDCnjY3d3Cmey',#31,'MUR_EXT-012',$,$,#228144,#230163,'2A47880D-F3B6-1B34-CC6D-8839C3330A3C',.ELEMENTEDWALL.),\n",
       " #231114=IfcWall('2He$WcGXbtqc4YviYBh6l3',#31,'MUR_EXT-017',$,$,#230269,#231064,'91A3F826-4219-77D2-6122-E6C88BAC6BC3',.ELEMENTEDWALL.),\n",
       " #231736=IfcWall('2W9Am2ySCKjHCSyvaVwORS',#31,'MUR_EXT-011',$,$,#231170,#231686,'A024AC02-F1C3-14B5-131C-F3991FE986DC',.ELEMENTEDWALL.),\n",
       " #232390=IfcWall('0wPJg8RL9IvY7UfbvdEvSq',#31,'MUR_EXT-019',$,$,#231792,#232340,'3A653A88-6D52-52E6-21DE-A65E673B9734',.ELEMENTEDWALL.),\n",
       " #233425=IfcWall('1OgdVwId10zw_mTHxKSbru',#31,'MUR_EXT-014',$,$,#232446,#233375,'58AA77FA-4A70-40F7-AFB0-751ED4725D78',.ELEMENTEDWALL.),\n",
       " #249008=IfcWall('3lnwwRZit5hHdgP3oIkHKH',#31,'MUR_EXT-020',$,$,#248845,#248988,'EFC7AE9B-8ECD-C5AD-19EA-643C92B91511',.ELEMENTEDWALL.),\n",
       " #254237=IfcWall('3OoRzgAnybEhvYt8FJqAkM',#31,'MUR_EXT-016',$,$,#253876,#254187,'D8C9BF6A-2B1F-253A-BE62-DC83D3D0AB96',.ELEMENTEDWALL.),\n",
       " #254834=IfcWall('0xKBRqAbd_rI3iwpnjyAOI',#31,'MUR_EXT-017',$,$,#254293,#254784,'3B50B6F4-2A59-FED5-20EC-EB3C6DF0A612',.ELEMENTEDWALL.),\n",
       " #256948=IfcWall('3guSM_uxnlJfJIuHUdRFkS',#31,'MUR_EXT-009',$,$,#256891,#256938,'EAE1C5BE-E3BC-6F4E-94D2-E117A76CFB9C',.ELEMENTEDWALL.),\n",
       " #302234=IfcWall('3w0Zjbys8$nReIs3sjbFLW',#31,'MUR_EXT-012',$,$,#298830,#302184,'FA023B65-F362-3FC5-BA12-D83DAD94F560',.ELEMENTEDWALL.)]"
      ]
     },
     "metadata": {},
     "execution_count": 5
    }
   ],
   "metadata": {}
  },
  {
   "cell_type": "code",
   "execution_count": 6,
   "source": [
    "viga = f.by_id('1sA2XDkvHYGfzv1bJGyAPd')\r\n"
   ],
   "outputs": [],
   "metadata": {}
  },
  {
   "cell_type": "code",
   "execution_count": 7,
   "source": [
    "f.get_inverse(viga)"
   ],
   "outputs": [
    {
     "output_type": "execute_result",
     "data": {
      "text/plain": [
       "[#270=IfcRelContainedInSpatialStructure('2oig4Y$fnvkeSqG2jb$cWH',#31,$,$,(#255,#412,#503,#588,#678,#996,#1314,#1620,#1926,#2245,#2551,#2857,#2995,#3315,#3393,#3503,#3591,#3669,#3747,#3825,#3903,#4001,#4322,#4929,#5066,#5203,#5340),#154),\n",
       " #593=IfcRelAssociatesMaterial('2iJTdrEyUpBsAwQcb0Rugv',#31,$,$,(#588,#678,#3393,#3503,#3591,#3669,#3747,#3825,#3903,#4001,#40617,#40701,#40777,#40849,#40921,#40993,#41925,#41997,#42077,#42153,#44073,#45494,#61821,#61902,#61983,#63875,#73209,#111054,#134911,#141573,#141657,#141761,#141861,#141950,#142030,#142130,#142219,#142299,#170427,#184658,#185660,#185979,#186060,#206707,#214571,#233542,#249654,#253604,#256385,#256467,#256545,#256627,#256705,#256783,#256861,#257208,#284132,#284358,#302381,#302461,#302543,#302621,#302699,#302777,#302875,#302973,#303051,#303129,#303207,#303643,#303906,#303988,#304073,#304151,#304229,#304307,#304385,#304473,#304561,#304649,#304737,#304825,#304913,#305001,#305089,#305177,#305265,#305353,#305441,#305519,#305607,#305695),#592),\n",
       " #612=IfcRelDefinesByProperties('2meARabFKAhdiyG6e__w0C',#31,$,$,(#588),#604),\n",
       " #617=IfcRelAssociatesClassification('0lQBwJBWUJHdxOD53cYsZ$',#31,'Classification ARCHICAD 2.0',$,(#588,#678,#3393,#3503,#3591,#3669,#3747,#3825,#3903,#4001,#40617,#41997,#44073,#185660,#256385,#256467,#256545,#256627,#256705,#256783,#257208,#284132,#284358,#302381,#302461,#302543,#302621,#302699,#302777,#302875,#302973,#303051,#303129,#303207,#303988,#304073,#304151,#304229,#304307,#304385,#304473,#304561,#304649,#304737,#304825,#304913,#305001,#305089,#305177,#305265,#305353,#305441,#305519,#305607,#305695),#616),\n",
       " #621=IfcRelDefinesByType('12F3snhhvqD6DKNx12oD$_',#31,$,$,(#588,#678),#620)]"
      ]
     },
     "metadata": {},
     "execution_count": 7
    }
   ],
   "metadata": {}
  },
  {
   "cell_type": "code",
   "execution_count": 9,
   "source": [
    "f.by_type('ifcproject')"
   ],
   "outputs": [
    {
     "output_type": "execute_result",
     "data": {
      "text/plain": [
       "[#89=IfcProject('344O7vICcwH8qAEnwJDjSU',#31,'2102_anarchotheque',$,$,$,'concours',(#85),#72)]"
      ]
     },
     "metadata": {},
     "execution_count": 9
    }
   ],
   "metadata": {}
  },
  {
   "cell_type": "code",
   "execution_count": 10,
   "source": [
    "f.by_type(\"ifcsite\")"
   ],
   "outputs": [
    {
     "output_type": "execute_result",
     "data": {
      "text/plain": [
       "[#112=IfcSite('20FpTZCqJy2vhVJYtjuIce',#31,'Site',$,$,#109,$,$,.ELEMENT.,(46,31,0,0),(6,37,0,0),589.,$,#100)]"
      ]
     },
     "metadata": {},
     "execution_count": 10
    }
   ],
   "metadata": {}
  },
  {
   "cell_type": "code",
   "execution_count": 11,
   "source": [
    "f.by_type(\"ifcbuilding\")"
   ],
   "outputs": [
    {
     "output_type": "execute_result",
     "data": {
      "text/plain": [
       "[#139=IfcBuilding('00tMo7QcxqWdIGvc4sMN2A',#31,'Bâtiment',$,$,#137,$,$,.ELEMENT.,$,$,#128)]"
      ]
     },
     "metadata": {},
     "execution_count": 11
    }
   ],
   "metadata": {}
  },
  {
   "cell_type": "code",
   "execution_count": 14,
   "source": [
    "f.by_type(\"ifcbuildingstorey\")"
   ],
   "outputs": [
    {
     "output_type": "execute_result",
     "data": {
      "text/plain": [
       "[#154=IfcBuildingStorey('3LQBafOez2oAf7xpUNFl$T',#31,'Sous-sol',$,$,#152,$,$,.ELEMENT.,-2.8),\n",
       " #5374=IfcBuildingStorey('3jXFMoLT5BEAhZd8PvR9OE',#31,'Rez-de-chaussée',$,$,#5373,$,$,.ELEMENT.,0.),\n",
       " #142333=IfcBuildingStorey('3rXyql0mf8kx3ZXg1$Xk9u',#31,'1er étage',$,$,#142332,$,$,.ELEMENT.,2.65),\n",
       " #254891=IfcBuildingStorey('1KEiLNC6mcJRV3LAsGB7Px',#31,'2e étage',$,$,#254890,$,$,.ELEMENT.,5.35),\n",
       " #303931=IfcBuildingStorey('2P2GQzR6T42RgHSfSG$kRX',#31,'Toiture',$,$,#303930,$,$,.ELEMENT.,8.05)]"
      ]
     },
     "metadata": {},
     "execution_count": 14
    }
   ],
   "metadata": {}
  }
 ]
}