{
 "cells": [
  {
   "cell_type": "code",
   "execution_count": 1,
   "source": [
    "import ifcopenshell\r\n",
    "from ifc_utils.viewer import Viewer\r\n",
    "from ifcopenshell.util.selector import Selector\r\n",
    "\r\n",
    "ifc_file = ifcopenshell.open(\"./modelos_ifc/SampleHouse.ifc\")\r\n",
    "\r\n",
    "\r\n",
    "\r\n",
    "selector = Selector()\r\n",
    "\r\n",
    "elements = selector.parse(ifc_file, \".IfcWall\")\r\n",
    "\r\n",
    "\r\n",
    "\r\n",
    "tela = Viewer(ifc_file, elements)\r\n",
    "\r\n",
    "\r\n",
    "\r\n",
    "tela.display()\r\n"
   ],
   "outputs": [],
   "metadata": {}
  },
  {
   "cell_type": "code",
   "execution_count": 2,
   "source": [
    "import k3d\r\n",
    "import numpy as np\r\n",
    "\r\n",
    "Nx, Ny  = 34, 33\r\n",
    "xmin, xmax = -3, 4\r\n",
    "ymin, ymax = -0, 3\r\n",
    "\r\n",
    "x = np.linspace(xmin, xmax, Nx)\r\n",
    "y = np.linspace(ymin, ymax, Ny)\r\n",
    "x, y = np.meshgrid(x, y)\r\n",
    "f = np.sin(x**2 + y**2)\r\n",
    "\r\n",
    "plota = k3d.plot()\r\n",
    "plt_surface = k3d.surface(f.astype(np.float32), bounds=[xmin,xmax,ymin,ymax])\r\n",
    "plota += plt_surface\r\n",
    "plota.display()\r\n"
   ],
   "outputs": [
    {
     "output_type": "display_data",
     "data": {
      "text/plain": [
       "Output()"
      ],
      "application/vnd.jupyter.widget-view+json": {
       "version_major": 2,
       "version_minor": 0,
       "model_id": "5c44ec5a9a57445b9d40ea6602604791"
      }
     },
     "metadata": {}
    }
   ],
   "metadata": {}
  }
 ],
 "metadata": {
  "orig_nbformat": 4,
  "language_info": {
   "name": "python",
   "version": "3.9.6",
   "mimetype": "text/x-python",
   "codemirror_mode": {
    "name": "ipython",
    "version": 3
   },
   "pygments_lexer": "ipython3",
   "nbconvert_exporter": "python",
   "file_extension": ".py"
  },
  "kernelspec": {
   "name": "python3",
   "display_name": "Python 3.9.6 64-bit ('pyifc': conda)"
  },
  "interpreter": {
   "hash": "6582ce03576f6c6c765d20f58794b37d4b3533c798dad966fab874d76e62593c"
  }
 },
 "nbformat": 4,
 "nbformat_minor": 2
}